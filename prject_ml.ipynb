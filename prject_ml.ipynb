{
  "metadata": {
    "kernelspec": {
      "language": "python",
      "display_name": "Python 3",
      "name": "python3"
    },
    "language_info": {
      "name": "python",
      "version": "3.10.13",
      "mimetype": "text/x-python",
      "codemirror_mode": {
        "name": "ipython",
        "version": 3
      },
      "pygments_lexer": "ipython3",
      "nbconvert_exporter": "python",
      "file_extension": ".py"
    },
    "kaggle": {
      "accelerator": "none",
      "dataSources": [
        {
          "sourceId": 8550517,
          "sourceType": "datasetVersion",
          "datasetId": 5109405
        }
      ],
      "dockerImageVersionId": 30698,
      "isInternetEnabled": true,
      "language": "python",
      "sourceType": "notebook",
      "isGpuEnabled": false
    },
    "colab": {
      "provenance": [],
      "include_colab_link": true
    }
  },
  "nbformat_minor": 0,
  "nbformat": 4,
  "cells": [
    {
      "cell_type": "markdown",
      "metadata": {
        "id": "view-in-github",
        "colab_type": "text"
      },
      "source": [
        "<a href=\"https://colab.research.google.com/github/Gilgamesh-hoang/MachineLearning/blob/main/prject_ml.ipynb\" target=\"_parent\"><img src=\"https://colab.research.google.com/assets/colab-badge.svg\" alt=\"Open In Colab\"/></a>"
      ]
    },
    {
      "cell_type": "code",
      "source": [
        "from google.colab import drive\n",
        "drive.mount('/content/gdrive')\n",
        "%cd '/content/gdrive/MyDrive/'"
      ],
      "metadata": {
        "colab": {
          "base_uri": "https://localhost:8080/"
        },
        "id": "D0K3ikHSsyNK",
        "outputId": "8a37639a-153b-431b-eb09-56aee869ea5e"
      },
      "execution_count": null,
      "outputs": [
        {
          "output_type": "stream",
          "name": "stdout",
          "text": [
            "Mounted at /content/gdrive\n",
            "/content/gdrive/MyDrive\n"
          ]
        }
      ]
    },
    {
      "cell_type": "code",
      "source": [
        "# Thư viện tiêu chuẩn\n",
        "import pandas as pd\n",
        "import numpy as np\n",
        "\n",
        "# Tiền xử lý dữ liệu\n",
        "import re\n",
        "from nltk.corpus import stopwords\n",
        "import nltk\n",
        "nltk.download('stopwords')\n",
        "nltk.download('wordnet')\n",
        "from nltk.stem import WordNetLemmatizer, PorterStemmer\n",
        "from sklearn.feature_extraction.text import TfidfVectorizer\n",
        "from tensorflow.keras.preprocessing.text import Tokenizer\n",
        "from tensorflow.keras.utils import to_categorical\n",
        "from tensorflow.keras.preprocessing.sequence import pad_sequences\n",
        "\n",
        "# Tạo test và train\n",
        "from sklearn.model_selection import StratifiedShuffleSplit\n",
        "\n",
        "# thư viện Visualization\n",
        "import matplotlib.pyplot as plt\n",
        "from wordcloud import WordCloud,STOPWORDS\n",
        "import plotly.express as px\n",
        "\n",
        "from sklearn.model_selection import GridSearchCV\n",
        "from sklearn.svm import SVC\n",
        "from sklearn.metrics import accuracy_score\n",
        "from keras.models import Sequential\n",
        "from keras.layers import Dense\n",
        "from keras.utils import to_categorical\n",
        "from sklearn.neural_network import MLPClassifier\n",
        "from sklearn.metrics import confusion_matrix, classification_report\n",
        "import seaborn as sns\n",
        "import warnings\n",
        "warnings.filterwarnings('ignore')"
      ],
      "metadata": {
        "execution": {
          "iopub.status.busy": "2024-05-30T13:16:01.854460Z",
          "iopub.execute_input": "2024-05-30T13:16:01.855141Z",
          "iopub.status.idle": "2024-05-30T13:16:01.867250Z",
          "shell.execute_reply.started": "2024-05-30T13:16:01.855090Z",
          "shell.execute_reply": "2024-05-30T13:16:01.865948Z"
        },
        "trusted": true,
        "colab": {
          "base_uri": "https://localhost:8080/"
        },
        "id": "SeyQsT_Rsuf3",
        "outputId": "5ffb1972-a89c-43de-a468-e40e7f7f4416"
      },
      "execution_count": null,
      "outputs": [
        {
          "output_type": "stream",
          "name": "stderr",
          "text": [
            "[nltk_data] Downloading package stopwords to /root/nltk_data...\n",
            "[nltk_data]   Unzipping corpora/stopwords.zip.\n",
            "[nltk_data] Downloading package wordnet to /root/nltk_data...\n"
          ]
        }
      ]
    },
    {
      "cell_type": "code",
      "source": [
        "news_df=pd.read_csv('ML/bbc-news-data.csv',sep='\\t')"
      ],
      "metadata": {
        "id": "_0a7DLuH32ny"
      },
      "execution_count": null,
      "outputs": []
    },
    {
      "cell_type": "code",
      "source": [
        "# Hiển thị thông tin cơ bản và một số hàng đầu tiên của tập dữ liệu để xác minh cấu trúc của nó\n",
        "news_df = pd.DataFrame(news_df, columns=['category', 'title', 'content'])\n",
        "print(news_df.head())\n",
        "print('\\nShape of data is {}\\n'.format(news_df.shape))\n",
        "print(news_df.info())"
      ],
      "metadata": {
        "execution": {
          "iopub.status.busy": "2024-05-30T13:02:43.337462Z",
          "iopub.execute_input": "2024-05-30T13:02:43.338225Z",
          "iopub.status.idle": "2024-05-30T13:02:43.551103Z",
          "shell.execute_reply.started": "2024-05-30T13:02:43.338190Z",
          "shell.execute_reply": "2024-05-30T13:02:43.549487Z"
        },
        "trusted": true,
        "colab": {
          "base_uri": "https://localhost:8080/"
        },
        "id": "bn1elok3suf_",
        "outputId": "fd6148d7-c613-4a25-8974-38ab21b19792"
      },
      "execution_count": null,
      "outputs": [
        {
          "output_type": "stream",
          "name": "stdout",
          "text": [
            "   category                              title  \\\n",
            "0  business  Ad sales boost Time Warner profit   \n",
            "1  business   Dollar gains on Greenspan speech   \n",
            "2  business  Yukos unit buyer faces loan claim   \n",
            "3  business  High fuel prices hit BA's profits   \n",
            "4  business  Pernod takeover talk lifts Domecq   \n",
            "\n",
            "                                             content  \n",
            "0   Quarterly profits at US media giant TimeWarne...  \n",
            "1   The dollar has hit its highest level against ...  \n",
            "2   The owners of embattled Russian oil giant Yuk...  \n",
            "3   British Airways has blamed high fuel prices f...  \n",
            "4   Shares in UK drinks and food firm Allied Dome...  \n",
            "\n",
            "Shape of data is (2225, 3)\n",
            "\n",
            "<class 'pandas.core.frame.DataFrame'>\n",
            "RangeIndex: 2225 entries, 0 to 2224\n",
            "Data columns (total 3 columns):\n",
            " #   Column    Non-Null Count  Dtype \n",
            "---  ------    --------------  ----- \n",
            " 0   category  2225 non-null   object\n",
            " 1   title     2225 non-null   object\n",
            " 2   content   2225 non-null   object\n",
            "dtypes: object(3)\n",
            "memory usage: 52.3+ KB\n",
            "None\n"
          ]
        }
      ]
    },
    {
      "cell_type": "code",
      "source": [
        "news_df.columns\n",
        "news_df['category'].value_counts()"
      ],
      "metadata": {
        "execution": {
          "iopub.status.busy": "2024-05-30T13:02:43.552939Z",
          "iopub.execute_input": "2024-05-30T13:02:43.553296Z",
          "iopub.status.idle": "2024-05-30T13:02:43.565273Z",
          "shell.execute_reply.started": "2024-05-30T13:02:43.553269Z",
          "shell.execute_reply": "2024-05-30T13:02:43.563886Z"
        },
        "trusted": true,
        "colab": {
          "base_uri": "https://localhost:8080/"
        },
        "id": "JYjgBwaPsugB",
        "outputId": "c70089f4-c3a5-436c-adc3-0c52629ccf61"
      },
      "execution_count": null,
      "outputs": [
        {
          "output_type": "execute_result",
          "data": {
            "text/plain": [
              "category\n",
              "sport            511\n",
              "business         510\n",
              "politics         417\n",
              "tech             401\n",
              "entertainment    386\n",
              "Name: count, dtype: int64"
            ]
          },
          "metadata": {},
          "execution_count": 6
        }
      ]
    },
    {
      "cell_type": "markdown",
      "source": [
        "# Vẽ biểu đồ phân bố của dữ liệu"
      ],
      "metadata": {
        "id": "TJI5Ddy7sugD"
      }
    },
    {
      "cell_type": "code",
      "source": [
        "category_counts = news_df[\"category\"].value_counts()\n",
        "# Vẽ biểu đồ hình tròn cho category\n",
        "plt.figure(figsize=(8, 8))\n",
        "plt.pie(category_counts, labels=category_counts.index, autopct=\"%1.1f%%\")\n",
        "plt.title(\"Phân bố dữ liệu theo danh mục\")\n",
        "plt.show()"
      ],
      "metadata": {
        "execution": {
          "iopub.status.busy": "2024-05-30T13:02:43.568165Z",
          "iopub.execute_input": "2024-05-30T13:02:43.568653Z",
          "iopub.status.idle": "2024-05-30T13:02:43.864906Z",
          "shell.execute_reply.started": "2024-05-30T13:02:43.568619Z",
          "shell.execute_reply": "2024-05-30T13:02:43.863443Z"
        },
        "trusted": true,
        "colab": {
          "base_uri": "https://localhost:8080/",
          "height": 675
        },
        "id": "W-mo4N9UsugF",
        "outputId": "86734219-888b-4f38-fad2-616585f98fcd"
      },
      "execution_count": null,
      "outputs": [
        {
          "output_type": "display_data",
          "data": {
            "text/plain": [
              "<Figure size 800x800 with 1 Axes>"
            ],
            "image/png": "[encoded data removed]"
          },
          "metadata": {}
        }
      ]
    },
    {
      "cell_type": "markdown",
      "source": [
        "**Tiền xử lý Bước đầu tiên**\n",
        "\n",
        "Mã hóa thứ tự: cột danh mục"
      ],
      "metadata": {
        "id": "QBhFczsNsugI"
      }
    },
    {
      "cell_type": "code",
      "source": [
        "# Gắn nhãn cho danh mục bằng cách sử dụng factorize và lưu vào cột mới 'category_id'\n",
        "news_df['category_id'] = news_df.category.factorize()[0]\n",
        "\n",
        "# Tạo DataFrame mới chỉ chứa cặp giá trị 'category' và 'category_id', loại bỏ hàng trùng lặp và sắp xếp theo 'category_id'\n",
        "category_id_df = news_df[['category','category_id']].drop_duplicates().sort_values('category_id')\n",
        "\n",
        "# Tạo từ điển ánh xạ từ tên danh mục sang ID danh mục và từ ID danh mục sang tên danh mục\n",
        "category_to_id = dict(category_id_df.values)\n",
        "id_to_category = dict(category_id_df[['category_id','category']].values)"
      ],
      "metadata": {
        "execution": {
          "iopub.status.busy": "2024-05-30T13:02:43.866453Z",
          "iopub.execute_input": "2024-05-30T13:02:43.866808Z",
          "iopub.status.idle": "2024-05-30T13:02:43.886402Z",
          "shell.execute_reply.started": "2024-05-30T13:02:43.866779Z",
          "shell.execute_reply": "2024-05-30T13:02:43.885002Z"
        },
        "trusted": true,
        "id": "NEqBf2DnsugI"
      },
      "execution_count": null,
      "outputs": []
    },
    {
      "cell_type": "code",
      "source": [
        "pd.DataFrame(news_df.category.value_counts()).rename(columns={'category':'Count'}).style.bar(color='#137a63')"
      ],
      "metadata": {
        "colab": {
          "base_uri": "https://localhost:8080/",
          "height": 237
        },
        "id": "Wjb6G2qR4XBt",
        "outputId": "2e37f1fe-71e7-4db3-9a2e-ba31c1006178"
      },
      "execution_count": null,
      "outputs": [
        {
          "output_type": "execute_result",
          "data": {
            "text/plain": [
              "<pandas.io.formats.style.Styler at 0x7a22ee25d4b0>"
            ],
            "text/html": [
              "<style type=\"text/css\">\n",
              "#T_69b00_row0_col0 {\n",
              "  width: 10em;\n",
              "  background: linear-gradient(90deg, #137a63 100.0%, transparent 100.0%);\n",
              "}\n",
              "#T_69b00_row1_col0 {\n",
              "  width: 10em;\n",
              "  background: linear-gradient(90deg, #137a63 99.8%, transparent 99.8%);\n",
              "}\n",
              "#T_69b00_row2_col0 {\n",
              "  width: 10em;\n",
              "  background: linear-gradient(90deg, #137a63 81.6%, transparent 81.6%);\n",
              "}\n",
              "#T_69b00_row3_col0 {\n",
              "  width: 10em;\n",
              "  background: linear-gradient(90deg, #137a63 78.5%, transparent 78.5%);\n",
              "}\n",
              "#T_69b00_row4_col0 {\n",
              "  width: 10em;\n",
              "  background: linear-gradient(90deg, #137a63 75.5%, transparent 75.5%);\n",
              "}\n",
              "</style>\n",
              "<table id=\"T_69b00\" class=\"dataframe\">\n",
              "  <thead>\n",
              "    <tr>\n",
              "      <th class=\"blank level0\" >&nbsp;</th>\n",
              "      <th id=\"T_69b00_level0_col0\" class=\"col_heading level0 col0\" >count</th>\n",
              "    </tr>\n",
              "    <tr>\n",
              "      <th class=\"index_name level0\" >category</th>\n",
              "      <th class=\"blank col0\" >&nbsp;</th>\n",
              "    </tr>\n",
              "  </thead>\n",
              "  <tbody>\n",
              "    <tr>\n",
              "      <th id=\"T_69b00_level0_row0\" class=\"row_heading level0 row0\" >sport</th>\n",
              "      <td id=\"T_69b00_row0_col0\" class=\"data row0 col0\" >511</td>\n",
              "    </tr>\n",
              "    <tr>\n",
              "      <th id=\"T_69b00_level0_row1\" class=\"row_heading level0 row1\" >business</th>\n",
              "      <td id=\"T_69b00_row1_col0\" class=\"data row1 col0\" >510</td>\n",
              "    </tr>\n",
              "    <tr>\n",
              "      <th id=\"T_69b00_level0_row2\" class=\"row_heading level0 row2\" >politics</th>\n",
              "      <td id=\"T_69b00_row2_col0\" class=\"data row2 col0\" >417</td>\n",
              "    </tr>\n",
              "    <tr>\n",
              "      <th id=\"T_69b00_level0_row3\" class=\"row_heading level0 row3\" >tech</th>\n",
              "      <td id=\"T_69b00_row3_col0\" class=\"data row3 col0\" >401</td>\n",
              "    </tr>\n",
              "    <tr>\n",
              "      <th id=\"T_69b00_level0_row4\" class=\"row_heading level0 row4\" >entertainment</th>\n",
              "      <td id=\"T_69b00_row4_col0\" class=\"data row4 col0\" >386</td>\n",
              "    </tr>\n",
              "  </tbody>\n",
              "</table>\n"
            ]
          },
          "metadata": {},
          "execution_count": 9
        }
      ]
    },
    {
      "cell_type": "code",
      "source": [
        "# Loại bỏ dữ liệu trùng lặp dựa trên cột 'category' và 'title'\n",
        "news_df.drop_duplicates(subset=['category','title'], inplace=True)\n",
        "\n",
        "# Kết hợp tiêu đề và nội dung thành một cột mới 'text'\n",
        "news_df['text'] = news_df['title'] + ' ' + news_df['content']"
      ],
      "metadata": {
        "execution": {
          "iopub.status.busy": "2024-05-30T13:02:43.887850Z",
          "iopub.execute_input": "2024-05-30T13:02:43.888187Z",
          "iopub.status.idle": "2024-05-30T13:02:43.910632Z",
          "shell.execute_reply.started": "2024-05-30T13:02:43.888157Z",
          "shell.execute_reply": "2024-05-30T13:02:43.908886Z"
        },
        "trusted": true,
        "id": "hAYanQtwsugJ"
      },
      "execution_count": null,
      "outputs": []
    },
    {
      "cell_type": "markdown",
      "source": [
        "**Tiền xử lý Bước thứ hai**\n",
        "\n",
        "Phương pháp tiền xử lý văn bản\n",
        "1. lower casing\n",
        "2. bỏ dấu câu và số\n",
        "3. xóa khoảng trắng\n",
        "4. xóa điểm dừng\n",
        "5. từ bổ nghĩa"
      ],
      "metadata": {
        "id": "JeaZE2t-sugJ"
      }
    },
    {
      "cell_type": "code",
      "source": [
        "def clean_text(text):\n",
        "    # Thay thế ký tự không phải là chữ cái bằng khoảng trắng\n",
        "    text = re.sub(\"[^a-zA-Z]\", \" \", text)\n",
        "    # Loại bỏ khoảng trắng thừa và ghép các từ lại với nhau\n",
        "    text = ' '.join(text.split())\n",
        "    # Chuyển đổi tất cả các ký tự thành chữ thường\n",
        "    text = text.lower()\n",
        "    return text\n",
        "\n",
        "# Áp dụng hàm clean_text cho cột 'text' và lưu kết quả vào cột 'clean_text'\n",
        "news_df['clean_text'] = news_df['text'].apply(clean_text)"
      ],
      "metadata": {
        "execution": {
          "iopub.status.busy": "2024-05-30T13:03:48.671506Z",
          "iopub.execute_input": "2024-05-30T13:03:48.671916Z",
          "iopub.status.idle": "2024-05-30T13:03:49.241967Z",
          "shell.execute_reply.started": "2024-05-30T13:03:48.671888Z",
          "shell.execute_reply": "2024-05-30T13:03:49.240694Z"
        },
        "trusted": true,
        "id": "GDU96e0TsugJ"
      },
      "execution_count": null,
      "outputs": []
    },
    {
      "cell_type": "code",
      "source": [
        "stop_words = set(stopwords.words('english'))\n",
        "\n",
        "# Hàm để loại bỏ stop words từ văn bản\n",
        "# VD: \"the\", \"a\", \"an\", \"and\", \"or\", \"but\",...\n",
        "def remove_stopwords(text):\n",
        "    # Tách văn bản thành các từ riêng biệt và loại bỏ các stop words\n",
        "    no_stopword_text = [w for w in text.split() if not w in stop_words]\n",
        "    return ' '.join(no_stopword_text)\n",
        "\n",
        "# Áp dụng hàm remove_stopwords cho cột 'clean_text' và lưu kết quả vào cùng cột\n",
        "news_df['clean_text'] = news_df['clean_text'].apply(remove_stopwords)"
      ],
      "metadata": {
        "execution": {
          "iopub.status.busy": "2024-05-30T13:12:46.778270Z",
          "iopub.execute_input": "2024-05-30T13:12:46.778710Z",
          "iopub.status.idle": "2024-05-30T13:12:46.907115Z",
          "shell.execute_reply.started": "2024-05-30T13:12:46.778679Z",
          "shell.execute_reply": "2024-05-30T13:12:46.906106Z"
        },
        "trusted": true,
        "id": "Hr8n2YgrsugK"
      },
      "execution_count": null,
      "outputs": []
    },
    {
      "cell_type": "code",
      "source": [
        "# Khởi tạo WordNetLemmatizer\n",
        "lemmatizer = WordNetLemmatizer()\n",
        "\n",
        "# Hàm lemmatization để chuyển đổi từng từ trong văn bản về dạng cơ bản của chúng\n",
        "def lemmatization(text):\n",
        "    lem = [lemmatizer.lemmatize(w) for w in text.split()]\n",
        "    return ' '.join(lem)\n",
        "\n",
        "# Áp dụng lemmatization cho cột 'clean_text' và lưu kết quả vào cùng cột\n",
        "news_df['clean_text'] = news_df['clean_text'].apply(lemmatization)"
      ],
      "metadata": {
        "id": "2sDi8O2CsugK"
      },
      "execution_count": null,
      "outputs": []
    },
    {
      "cell_type": "code",
      "source": [
        "stemmer = PorterStemmer()\n",
        "\n",
        "def stemming(text):\n",
        "    stemmed_text = [stemmer.stem(word) for word in text.split()]\n",
        "    return ' '.join(stemmed_text)\n",
        "\n",
        "news_df['clean_text'] = news_df['clean_text'].apply(stemming)"
      ],
      "metadata": {
        "id": "kJZgEeJwARvR"
      },
      "execution_count": null,
      "outputs": []
    },
    {
      "cell_type": "code",
      "source": [
        "# Đặt các từ dừng (stopwords) từ tập hợp STOPWORDS của WordCloud\n",
        "stopwords = set(STOPWORDS)\n",
        "\n",
        "# Kết hợp toàn bộ văn bản đã làm sạch thành một chuỗi duy nhất\n",
        "totalTarget = ' '.join(news_df['clean_text'])"
      ],
      "metadata": {
        "id": "KuziewdtvJqw"
      },
      "execution_count": null,
      "outputs": []
    },
    {
      "cell_type": "code",
      "source": [
        "# Chia chuỗi totalTarget thành danh sách các từ\n",
        "totalTarget = totalTarget.split()\n",
        "\n",
        "# Tính tần suất xuất hiện của mỗi từ trong danh sách\n",
        "freq_dist = nltk.FreqDist(totalTarget)\n",
        "\n",
        "# Chuyển đổi tần suất từ điển thành DataFrame của pandas\n",
        "freq_dist = pd.DataFrame({'word': list(freq_dist.keys()), 'count': list(freq_dist.values())})\n",
        "\n",
        "# Vẽ biểu đồ cột cho 20 từ xuất hiện nhiều nhất\n",
        "px.bar(freq_dist.nlargest(20, 'count').sort_values('count'), y='word', x='count',\n",
        "       title='Tần suất của 20 từ xuất hiện nhiều nhất', color_discrete_sequence=['#137a63'])"
      ],
      "metadata": {
        "colab": {
          "base_uri": "https://localhost:8080/",
          "height": 542
        },
        "id": "mHEEPRcut3tn",
        "outputId": "61382d9d-1639-4376-9d85-3b4910a39bee"
      },
      "execution_count": null,
      "outputs": [
        {
          "output_type": "display_data",
          "data": {
            "text/html": [
              "<html>\n",
              "<head><meta charset=\"utf-8\" /></head>\n",
              "<body>\n",
              "    <div>            <script src=\"https://cdnjs.cloudflare.com/ajax/libs/mathjax/2.7.5/MathJax.js?config=TeX-AMS-MML_SVG\"></script><script type=\"text/javascript\">if (window.MathJax && window.MathJax.Hub && window.MathJax.Hub.Config) {window.MathJax.Hub.Config({SVG: {font: \"STIX-Web\"}});}</script>                <script type=\"text/javascript\">window.PlotlyConfig = {MathJaxConfig: 'local'};</script>\n",
              "        <script charset=\"utf-8\" src=\"https://cdn.plot.ly/plotly-2.24.1.min.js\"></script>                <div id=\"226fa287-3dfa-49d0-af95-df5c7c4a329f\" class=\"plotly-graph-div\" style=\"height:525px; width:100%;\"></div>            <script type=\"text/javascript\">                                    window.PLOTLYENV=window.PLOTLYENV || {};                                    if (document.getElementById(\"226fa287-3dfa-49d0-af95-df5c7c4a329f\")) {                    Plotly.newPlot(                        \"226fa287-3dfa-49d0-af95-df5c7c4a329f\",                        [{\"alignmentgroup\":\"True\",\"hovertemplate\":\"count=%{x}\\u003cbr\\u003eword=%{y}\\u003cextra\\u003e\\u003c\\u002fextra\\u003e\",\"legendgroup\":\"\",\"marker\":{\"color\":\"#137a63\",\"pattern\":{\"shape\":\"\"}},\"name\":\"\",\"offsetgroup\":\"\",\"orientation\":\"h\",\"showlegend\":false,\"textposition\":\"auto\",\"x\":[1207,1209,1259,1271,1320,1321,1327,1408,1480,1554,1570,1800,1829,1835,1919,1998,2414,2861,3149,6788],\"xaxis\":\"x\",\"y\":[\"govern\",\"two\",\"go\",\"first\",\"make\",\"use\",\"last\",\"could\",\"say\",\"game\",\"time\",\"one\",\"new\",\"peopl\",\"u\",\"also\",\"would\",\"mr\",\"year\",\"said\"],\"yaxis\":\"y\",\"type\":\"bar\"}],                        {\"template\":{\"data\":{\"histogram2dcontour\":[{\"type\":\"histogram2dcontour\",\"colorbar\":{\"outlinewidth\":0,\"ticks\":\"\"},\"colorscale\":[[0.0,\"#0d0887\"],[0.1111111111111111,\"#46039f\"],[0.2222222222222222,\"#7201a8\"],[0.3333333333333333,\"#9c179e\"],[0.4444444444444444,\"#bd3786\"],[0.5555555555555556,\"#d8576b\"],[0.6666666666666666,\"#ed7953\"],[0.7777777777777778,\"#fb9f3a\"],[0.8888888888888888,\"#fdca26\"],[1.0,\"#f0f921\"]]}],\"choropleth\":[{\"type\":\"choropleth\",\"colorbar\":{\"outlinewidth\":0,\"ticks\":\"\"}}],\"histogram2d\":[{\"type\":\"histogram2d\",\"colorbar\":{\"outlinewidth\":0,\"ticks\":\"\"},\"colorscale\":[[0.0,\"#0d0887\"],[0.1111111111111111,\"#46039f\"],[0.2222222222222222,\"#7201a8\"],[0.3333333333333333,\"#9c179e\"],[0.4444444444444444,\"#bd3786\"],[0.5555555555555556,\"#d8576b\"],[0.6666666666666666,\"#ed7953\"],[0.7777777777777778,\"#fb9f3a\"],[0.8888888888888888,\"#fdca26\"],[1.0,\"#f0f921\"]]}],\"heatmap\":[{\"type\":\"heatmap\",\"colorbar\":{\"outlinewidth\":0,\"ticks\":\"\"},\"colorscale\":[[0.0,\"#0d0887\"],[0.1111111111111111,\"#46039f\"],[0.2222222222222222,\"#7201a8\"],[0.3333333333333333,\"#9c179e\"],[0.4444444444444444,\"#bd3786\"],[0.5555555555555556,\"#d8576b\"],[0.6666666666666666,\"#ed7953\"],[0.7777777777777778,\"#fb9f3a\"],[0.8888888888888888,\"#fdca26\"],[1.0,\"#f0f921\"]]}],\"heatmapgl\":[{\"type\":\"heatmapgl\",\"colorbar\":{\"outlinewidth\":0,\"ticks\":\"\"},\"colorscale\":[[0.0,\"#0d0887\"],[0.1111111111111111,\"#46039f\"],[0.2222222222222222,\"#7201a8\"],[0.3333333333333333,\"#9c179e\"],[0.4444444444444444,\"#bd3786\"],[0.5555555555555556,\"#d8576b\"],[0.6666666666666666,\"#ed7953\"],[0.7777777777777778,\"#fb9f3a\"],[0.8888888888888888,\"#fdca26\"],[1.0,\"#f0f921\"]]}],\"contourcarpet\":[{\"type\":\"contourcarpet\",\"colorbar\":{\"outlinewidth\":0,\"ticks\":\"\"}}],\"contour\":[{\"type\":\"contour\",\"colorbar\":{\"outlinewidth\":0,\"ticks\":\"\"},\"colorscale\":[[0.0,\"#0d0887\"],[0.1111111111111111,\"#46039f\"],[0.2222222222222222,\"#7201a8\"],[0.3333333333333333,\"#9c179e\"],[0.4444444444444444,\"#bd3786\"],[0.5555555555555556,\"#d8576b\"],[0.6666666666666666,\"#ed7953\"],[0.7777777777777778,\"#fb9f3a\"],[0.8888888888888888,\"#fdca26\"],[1.0,\"#f0f921\"]]}],\"surface\":[{\"type\":\"surface\",\"colorbar\":{\"outlinewidth\":0,\"ticks\":\"\"},\"colorscale\":[[0.0,\"#0d0887\"],[0.1111111111111111,\"#46039f\"],[0.2222222222222222,\"#7201a8\"],[0.3333333333333333,\"#9c179e\"],[0.4444444444444444,\"#bd3786\"],[0.5555555555555556,\"#d8576b\"],[0.6666666666666666,\"#ed7953\"],[0.7777777777777778,\"#fb9f3a\"],[0.8888888888888888,\"#fdca26\"],[1.0,\"#f0f921\"]]}],\"mesh3d\":[{\"type\":\"mesh3d\",\"colorbar\":{\"outlinewidth\":0,\"ticks\":\"\"}}],\"scatter\":[{\"fillpattern\":{\"fillmode\":\"overlay\",\"size\":10,\"solidity\":0.2},\"type\":\"scatter\"}],\"parcoords\":[{\"type\":\"parcoords\",\"line\":{\"colorbar\":{\"outlinewidth\":0,\"ticks\":\"\"}}}],\"scatterpolargl\":[{\"type\":\"scatterpolargl\",\"marker\":{\"colorbar\":{\"outlinewidth\":0,\"ticks\":\"\"}}}],\"bar\":[{\"error_x\":{\"color\":\"#2a3f5f\"},\"error_y\":{\"color\":\"#2a3f5f\"},\"marker\":{\"line\":{\"color\":\"#E5ECF6\",\"width\":0.5},\"pattern\":{\"fillmode\":\"overlay\",\"size\":10,\"solidity\":0.2}},\"type\":\"bar\"}],\"scattergeo\":[{\"type\":\"scattergeo\",\"marker\":{\"colorbar\":{\"outlinewidth\":0,\"ticks\":\"\"}}}],\"scatterpolar\":[{\"type\":\"scatterpolar\",\"marker\":{\"colorbar\":{\"outlinewidth\":0,\"ticks\":\"\"}}}],\"histogram\":[{\"marker\":{\"pattern\":{\"fillmode\":\"overlay\",\"size\":10,\"solidity\":0.2}},\"type\":\"histogram\"}],\"scattergl\":[{\"type\":\"scattergl\",\"marker\":{\"colorbar\":{\"outlinewidth\":0,\"ticks\":\"\"}}}],\"scatter3d\":[{\"type\":\"scatter3d\",\"line\":{\"colorbar\":{\"outlinewidth\":0,\"ticks\":\"\"}},\"marker\":{\"colorbar\":{\"outlinewidth\":0,\"ticks\":\"\"}}}],\"scattermapbox\":[{\"type\":\"scattermapbox\",\"marker\":{\"colorbar\":{\"outlinewidth\":0,\"ticks\":\"\"}}}],\"scatterternary\":[{\"type\":\"scatterternary\",\"marker\":{\"colorbar\":{\"outlinewidth\":0,\"ticks\":\"\"}}}],\"scattercarpet\":[{\"type\":\"scattercarpet\",\"marker\":{\"colorbar\":{\"outlinewidth\":0,\"ticks\":\"\"}}}],\"carpet\":[{\"aaxis\":{\"endlinecolor\":\"#2a3f5f\",\"gridcolor\":\"white\",\"linecolor\":\"white\",\"minorgridcolor\":\"white\",\"startlinecolor\":\"#2a3f5f\"},\"baxis\":{\"endlinecolor\":\"#2a3f5f\",\"gridcolor\":\"white\",\"linecolor\":\"white\",\"minorgridcolor\":\"white\",\"startlinecolor\":\"#2a3f5f\"},\"type\":\"carpet\"}],\"table\":[{\"cells\":{\"fill\":{\"color\":\"#EBF0F8\"},\"line\":{\"color\":\"white\"}},\"header\":{\"fill\":{\"color\":\"#C8D4E3\"},\"line\":{\"color\":\"white\"}},\"type\":\"table\"}],\"barpolar\":[{\"marker\":{\"line\":{\"color\":\"#E5ECF6\",\"width\":0.5},\"pattern\":{\"fillmode\":\"overlay\",\"size\":10,\"solidity\":0.2}},\"type\":\"barpolar\"}],\"pie\":[{\"automargin\":true,\"type\":\"pie\"}]},\"layout\":{\"autotypenumbers\":\"strict\",\"colorway\":[\"#636efa\",\"#EF553B\",\"#00cc96\",\"#ab63fa\",\"#FFA15A\",\"#19d3f3\",\"#FF6692\",\"#B6E880\",\"#FF97FF\",\"#FECB52\"],\"font\":{\"color\":\"#2a3f5f\"},\"hovermode\":\"closest\",\"hoverlabel\":{\"align\":\"left\"},\"paper_bgcolor\":\"white\",\"plot_bgcolor\":\"#E5ECF6\",\"polar\":{\"bgcolor\":\"#E5ECF6\",\"angularaxis\":{\"gridcolor\":\"white\",\"linecolor\":\"white\",\"ticks\":\"\"},\"radialaxis\":{\"gridcolor\":\"white\",\"linecolor\":\"white\",\"ticks\":\"\"}},\"ternary\":{\"bgcolor\":\"#E5ECF6\",\"aaxis\":{\"gridcolor\":\"white\",\"linecolor\":\"white\",\"ticks\":\"\"},\"baxis\":{\"gridcolor\":\"white\",\"linecolor\":\"white\",\"ticks\":\"\"},\"caxis\":{\"gridcolor\":\"white\",\"linecolor\":\"white\",\"ticks\":\"\"}},\"coloraxis\":{\"colorbar\":{\"outlinewidth\":0,\"ticks\":\"\"}},\"colorscale\":{\"sequential\":[[0.0,\"#0d0887\"],[0.1111111111111111,\"#46039f\"],[0.2222222222222222,\"#7201a8\"],[0.3333333333333333,\"#9c179e\"],[0.4444444444444444,\"#bd3786\"],[0.5555555555555556,\"#d8576b\"],[0.6666666666666666,\"#ed7953\"],[0.7777777777777778,\"#fb9f3a\"],[0.8888888888888888,\"#fdca26\"],[1.0,\"#f0f921\"]],\"sequentialminus\":[[0.0,\"#0d0887\"],[0.1111111111111111,\"#46039f\"],[0.2222222222222222,\"#7201a8\"],[0.3333333333333333,\"#9c179e\"],[0.4444444444444444,\"#bd3786\"],[0.5555555555555556,\"#d8576b\"],[0.6666666666666666,\"#ed7953\"],[0.7777777777777778,\"#fb9f3a\"],[0.8888888888888888,\"#fdca26\"],[1.0,\"#f0f921\"]],\"diverging\":[[0,\"#8e0152\"],[0.1,\"#c51b7d\"],[0.2,\"#de77ae\"],[0.3,\"#f1b6da\"],[0.4,\"#fde0ef\"],[0.5,\"#f7f7f7\"],[0.6,\"#e6f5d0\"],[0.7,\"#b8e186\"],[0.8,\"#7fbc41\"],[0.9,\"#4d9221\"],[1,\"#276419\"]]},\"xaxis\":{\"gridcolor\":\"white\",\"linecolor\":\"white\",\"ticks\":\"\",\"title\":{\"standoff\":15},\"zerolinecolor\":\"white\",\"automargin\":true,\"zerolinewidth\":2},\"yaxis\":{\"gridcolor\":\"white\",\"linecolor\":\"white\",\"ticks\":\"\",\"title\":{\"standoff\":15},\"zerolinecolor\":\"white\",\"automargin\":true,\"zerolinewidth\":2},\"scene\":{\"xaxis\":{\"backgroundcolor\":\"#E5ECF6\",\"gridcolor\":\"white\",\"linecolor\":\"white\",\"showbackground\":true,\"ticks\":\"\",\"zerolinecolor\":\"white\",\"gridwidth\":2},\"yaxis\":{\"backgroundcolor\":\"#E5ECF6\",\"gridcolor\":\"white\",\"linecolor\":\"white\",\"showbackground\":true,\"ticks\":\"\",\"zerolinecolor\":\"white\",\"gridwidth\":2},\"zaxis\":{\"backgroundcolor\":\"#E5ECF6\",\"gridcolor\":\"white\",\"linecolor\":\"white\",\"showbackground\":true,\"ticks\":\"\",\"zerolinecolor\":\"white\",\"gridwidth\":2}},\"shapedefaults\":{\"line\":{\"color\":\"#2a3f5f\"}},\"annotationdefaults\":{\"arrowcolor\":\"#2a3f5f\",\"arrowhead\":0,\"arrowwidth\":1},\"geo\":{\"bgcolor\":\"white\",\"landcolor\":\"#E5ECF6\",\"subunitcolor\":\"white\",\"showland\":true,\"showlakes\":true,\"lakecolor\":\"white\"},\"title\":{\"x\":0.05},\"mapbox\":{\"style\":\"light\"}}},\"xaxis\":{\"anchor\":\"y\",\"domain\":[0.0,1.0],\"title\":{\"text\":\"count\"}},\"yaxis\":{\"anchor\":\"x\",\"domain\":[0.0,1.0],\"title\":{\"text\":\"word\"}},\"legend\":{\"tracegroupgap\":0},\"title\":{\"text\":\"T\\u1ea7n su\\u1ea5t c\\u1ee7a 20 t\\u1eeb xu\\u1ea5t hi\\u1ec7n nhi\\u1ec1u nh\\u1ea5t\"},\"barmode\":\"relative\"},                        {\"responsive\": true}                    ).then(function(){\n",
              "                            \n",
              "var gd = document.getElementById('226fa287-3dfa-49d0-af95-df5c7c4a329f');\n",
              "var x = new MutationObserver(function (mutations, observer) {{\n",
              "        var display = window.getComputedStyle(gd).display;\n",
              "        if (!display || display === 'none') {{\n",
              "            console.log([gd, 'removed!']);\n",
              "            Plotly.purge(gd);\n",
              "            observer.disconnect();\n",
              "        }}\n",
              "}});\n",
              "\n",
              "// Listen for the removal of the full notebook cells\n",
              "var notebookContainer = gd.closest('#notebook-container');\n",
              "if (notebookContainer) {{\n",
              "    x.observe(notebookContainer, {childList: true});\n",
              "}}\n",
              "\n",
              "// Listen for the clearing of the current output cell\n",
              "var outputEl = gd.closest('.output');\n",
              "if (outputEl) {{\n",
              "    x.observe(outputEl, {childList: true});\n",
              "}}\n",
              "\n",
              "                        })                };                            </script>        </div>\n",
              "</body>\n",
              "</html>"
            ]
          },
          "metadata": {}
        }
      ]
    },
    {
      "cell_type": "markdown",
      "source": [
        "**tokenizer và vecto hóa văn bản**"
      ],
      "metadata": {
        "id": "hTtVbUQyysXP"
      }
    },
    {
      "cell_type": "code",
      "source": [
        "# Khởi tạo tokenizer với số lượng từ tối đa là 10000\n",
        "tokenizer = Tokenizer(num_words=10000)\n",
        "\n",
        "# Huấn luyện tokenizer trên văn bản đã làm sạch\n",
        "tokenizer.fit_on_texts(news_df.clean_text)\n",
        "\n",
        "# Chuyển đổi văn bản thành chuỗi các chỉ số\n",
        "sequences = tokenizer.texts_to_sequences(news_df.clean_text)\n",
        "\n",
        "# Đệm các chuỗi để chúng có độ dài bằng nhau\n",
        "text = pad_sequences(sequences)\n",
        "\n",
        "# Chuyển đổi cột category_id thành kiểu float32\n",
        "labels = news_df.category_id.astype('float32')\n"
      ],
      "metadata": {
        "id": "BwugVGBSvbea"
      },
      "execution_count": null,
      "outputs": []
    },
    {
      "cell_type": "code",
      "source": [
        "# Chuyển đổi chuỗi chỉ số thành biểu diễn vectơ\n",
        "def vectorize_sequence(sequence, dimension=10000):\n",
        "    # Khởi tạo một ma trận zeros với số hàng bằng số lượng chuỗi và số cột bằng dimension\n",
        "    results = np.zeros((len(sequence), dimension))\n",
        "\n",
        "    # Lặp qua từng chuỗi chỉ số\n",
        "    for i, seq in enumerate(sequence):\n",
        "        # Đặt các vị trí tương ứng với các chỉ số trong chuỗi thành 1\n",
        "        results[i, seq] = 1\n",
        "    return results\n",
        "\n",
        "# Sử dụng hàm để biểu diễn vectơ one-hot của chuỗi text\n",
        "vectorizer = vectorize_sequence(text)\n",
        "\n",
        "# In ra biểu diễn vectơ one-hot của chuỗi text đầu tiên\n",
        "vectorizer[0]"
      ],
      "metadata": {
        "colab": {
          "base_uri": "https://localhost:8080/"
        },
        "id": "4FOfmHwHxLWx",
        "outputId": "a8ceabec-dc2a-4e81-e971-1d6400010993"
      },
      "execution_count": null,
      "outputs": [
        {
          "output_type": "execute_result",
          "data": {
            "text/plain": [
              "array([1., 1., 1., ..., 0., 0., 0.])"
            ]
          },
          "metadata": {},
          "execution_count": 18
        }
      ]
    },
    {
      "cell_type": "code",
      "source": [
        "split = StratifiedShuffleSplit(n_splits=1, test_size=0.2, random_state=42)\n",
        "\n",
        "# Lặp qua các chỉ số được tạo bởi StratifiedShuffleSplit\n",
        "for train_index, test_index in split.split(news_df, news_df['category_id']):\n",
        "    # Tạo tập huấn luyện và tập kiểm tra dựa trên chỉ số\n",
        "    strat_train_set = news_df.iloc[train_index]\n",
        "    strat_test_set = news_df.iloc[test_index]\n",
        "\n",
        "X_train = strat_train_set['clean_text']\n",
        "y_train = strat_train_set['category_id']\n",
        "X_test = strat_test_set['clean_text']\n",
        "y_test = strat_test_set['category_id']\n"
      ],
      "metadata": {
        "id": "DFYxLx4b1eP1"
      },
      "execution_count": null,
      "outputs": []
    },
    {
      "cell_type": "code",
      "source": [
        "\n",
        "# tập dữ liệu này dùng để train SVM\n",
        "Xtrain_vectorize = vectorize_sequence(text[train_index])\n",
        "Xtest_vectorize = vectorize_sequence(text[test_index])\n",
        "\n",
        "# tập dữ liệu này dùng để train Neural network\n",
        "one_hot_train_labels = to_categorical(y_train)\n",
        "one_hot_test_labels = to_categorical(y_test)"
      ],
      "metadata": {
        "id": "DY3h-rDX8Mey"
      },
      "execution_count": null,
      "outputs": []
    },
    {
      "cell_type": "code",
      "source": [
        "\n",
        "# Các tham số cần tìm kiếm cho SVM\n",
        "svm_params = {'C': [0.1, 1, 10],\n",
        "              'kernel': ['linear', 'poly', 'rbf'],\n",
        "              'gamma': ['scale', 'auto']}\n",
        "\n",
        "# Sử dụng GridSearchCV cho SVM\n",
        "svm_grid = GridSearchCV(SVC(), svm_params, cv=3)\n",
        "svm_grid.fit(Xtrain_vectorize, y_train)\n",
        "\n",
        "# In ra tham số tốt nhất cho SVM\n",
        "print(\"Best parameters for SVM:\", svm_grid.best_params_)\n",
        "\n"
      ],
      "metadata": {
        "id": "5JYVSNkCr3fd"
      },
      "execution_count": null,
      "outputs": []
    },
    {
      "cell_type": "code",
      "source": [
        "# Các tham số cần tìm kiếm cho mạng nơ-ron\n",
        "mlp_params = {'hidden_layer_sizes': [(10,), (5, 5)],\n",
        "              'activation': ['relu', 'tanh'],\n",
        "              'learning_rate_init': [0.001, 0.01]}\n",
        "\n",
        "# Sử dụng GridSearchCV cho mạng nơ-ron\n",
        "mlp_grid = GridSearchCV(MLPClassifier(), mlp_params, cv=3)\n",
        "mlp_grid.fit(Xtrain_vectorize, y_train)\n",
        "\n",
        "# In ra tham số tốt nhất cho mạng nơ-ron\n",
        "print(\"Best parameters for MLP:\", mlp_grid.best_params_)"
      ],
      "metadata": {
        "colab": {
          "base_uri": "https://localhost:8080/"
        },
        "id": "LzuxAdFK72FU",
        "outputId": "a4974be0-d163-48e1-8f48-515d752c23ef"
      },
      "execution_count": null,
      "outputs": [
        {
          "output_type": "stream",
          "name": "stdout",
          "text": [
            "Best parameters for MLP: {'activation': 'tanh', 'hidden_layer_sizes': (10,), 'learning_rate_init': 0.01}\n"
          ]
        }
      ]
    },
    {
      "cell_type": "code",
      "source": [
        "# Xây dựng và huấn luyện mô hình SVM\n",
        "svm_model = SVC(C=0.1, gamma='scale', kernel='linear')\n",
        "svm_model.fit(Xtrain_vectorize, y_train)\n",
        "svm_pred = svm_model.predict(Xtest_vectorize)\n",
        "svm_accuracy = accuracy_score(y_test, svm_pred)\n",
        "\n",
        "# Xây dựng và huấn luyện mô hình MLP\n",
        "mlp_model = MLPClassifier(activation='tanh', hidden_layer_sizes=(10,), learning_rate_init=0.01)\n",
        "mlp_model.fit(Xtrain_vectorize, y_train)\n",
        "mlp_pred = mlp_model.predict(Xtest_vectorize)\n",
        "mlp_accuracy = accuracy_score(y_test, mlp_pred)\n",
        "\n",
        "# Trình bày kết quả thực nghiệm\n",
        "models = ['SVM', 'MLP']\n",
        "accuracies = [svm_accuracy, mlp_accuracy]\n",
        "\n",
        "plt.bar(models, accuracies, color=['blue', 'orange'])\n",
        "plt.xlabel('Models')\n",
        "plt.ylabel('Accuracy')\n",
        "plt.title('Accuracy of SVM vs. MLP')\n",
        "plt.ylim(0, 1)\n",
        "plt.show()"
      ],
      "metadata": {
        "colab": {
          "base_uri": "https://localhost:8080/",
          "height": 489
        },
        "id": "EQPnfKQPAFGM",
        "outputId": "6e3be9ed-be60-4a8a-e60a-aad7fe59d55f"
      },
      "execution_count": null,
      "outputs": [
        {
          "output_type": "stream",
          "name": "stdout",
          "text": [
            "Accuracy of MLP: 0.9714285714285714\n"
          ]
        },
        {
          "output_type": "display_data",
          "data": {
            "text/plain": [
              "<Figure size 640x480 with 1 Axes>"
            ],
            "image/png": "[encoded data removed]"
          },
          "metadata": {}
        }
      ]
    },
    {
      "cell_type": "code",
      "source": [
        "# Phân tích độ chính xác của SVM và MLP\n",
        "svm_accuracy = accuracy_score(y_test, svm_pred)\n",
        "mlp_accuracy = accuracy_score(y_test, mlp_pred)\n",
        "\n",
        "print(\"Accuracy of SVM:\", svm_accuracy)\n",
        "print(\"Accuracy of MLP:\", mlp_accuracy)\n",
        "\n",
        "# Phân tích độ chính xác của từng lớp\n",
        "svm_report = classification_report(y_test, svm_pred)\n",
        "mlp_report = classification_report(y_test, mlp_pred)\n",
        "\n",
        "print(\"Classification Report of SVM:\\n\", svm_report)\n",
        "print(\"Classification Report of MLP:\\n\", mlp_report)\n",
        "\n",
        "# Vẽ biểu đồ confusion matrix\n",
        "svm_cm = confusion_matrix(y_test, svm_pred)\n",
        "mlp_cm = confusion_matrix(y_test, mlp_pred)\n",
        "\n",
        "plt.figure(figsize=(12, 5))\n",
        "\n",
        "plt.subplot(1, 2, 1)\n",
        "sns.heatmap(svm_cm, annot=True, cmap='Blues', fmt='g', cbar=False)\n",
        "plt.title('Confusion Matrix - SVM')\n",
        "plt.xlabel('Predicted')\n",
        "plt.ylabel('Actual')\n",
        "\n",
        "plt.subplot(1, 2, 2)\n",
        "sns.heatmap(mlp_cm, annot=True, cmap='Oranges', fmt='g', cbar=False)\n",
        "plt.title('Confusion Matrix - MLP')\n",
        "plt.xlabel('Predicted')\n",
        "plt.ylabel('Actual')\n",
        "\n",
        "plt.tight_layout()\n",
        "plt.show()"
      ],
      "metadata": {
        "id": "pOPwiYgTB6fD",
        "outputId": "2bbb83e8-1aba-43ee-be64-8c796afe9fca",
        "colab": {
          "base_uri": "https://localhost:8080/",
          "height": 856
        }
      },
      "execution_count": null,
      "outputs": [
        {
          "output_type": "stream",
          "name": "stdout",
          "text": [
            "Accuracy of SVM: 0.9809523809523809\n",
            "Accuracy of MLP: 0.9714285714285714\n",
            "Classification Report of SVM:\n",
            "               precision    recall  f1-score   support\n",
            "\n",
            "           0       0.98      0.97      0.97       100\n",
            "           1       1.00      1.00      1.00        73\n",
            "           2       0.95      0.99      0.97        80\n",
            "           3       1.00      0.98      0.99       100\n",
            "           4       0.97      0.97      0.97        67\n",
            "\n",
            "    accuracy                           0.98       420\n",
            "   macro avg       0.98      0.98      0.98       420\n",
            "weighted avg       0.98      0.98      0.98       420\n",
            "\n",
            "Classification Report of MLP:\n",
            "               precision    recall  f1-score   support\n",
            "\n",
            "           0       0.97      0.96      0.96       100\n",
            "           1       0.96      1.00      0.98        73\n",
            "           2       0.95      0.97      0.96        80\n",
            "           3       1.00      0.99      0.99       100\n",
            "           4       0.97      0.93      0.95        67\n",
            "\n",
            "    accuracy                           0.97       420\n",
            "   macro avg       0.97      0.97      0.97       420\n",
            "weighted avg       0.97      0.97      0.97       420\n",
            "\n"
          ]
        },
        {
          "output_type": "display_data",
          "data": {
            "text/plain": [
              "<Figure size 1200x500 with 2 Axes>"
            ],
            "image/png": "[encoded data removed]"
          },
          "metadata": {}
        }
      ]
    }
  ]
}